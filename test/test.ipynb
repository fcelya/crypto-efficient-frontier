{
 "cells": [
  {
   "cell_type": "code",
   "execution_count": 42,
   "id": "ab9bd06e",
   "metadata": {},
   "outputs": [],
   "source": [
    "import requests\n",
    "import pandas as pd\n",
    "import numpy as np\n",
    "from scipy.optimize import minimize"
   ]
  },
  {
   "cell_type": "code",
   "execution_count": 73,
   "id": "e4eb48c9-488e-42cf-8c60-5bb247d6bc64",
   "metadata": {},
   "outputs": [],
   "source": [
    "def get_crypto(crypto,period='86400'):\n",
    "    '''\n",
    "    Parameters\n",
    "    ----------\n",
    "    crypto : String\n",
    "        Ticker for the crypto.\n",
    "    period : String, optional\n",
    "        seconds between datapoints. The default is '86400' which stands for 1 day.\n",
    "\n",
    "    Returns\n",
    "    -------\n",
    "    df : DataFrame\n",
    "        Contains timestamp, open, high, low, close, volume, quotevolume.\n",
    "\n",
    "    '''\n",
    "    url_base = 'https://api.cryptowat.ch/markets/'\n",
    "    url_market = 'binance/'\n",
    "    url_pair = crypto + 'usdt/'\n",
    "    url_ohlc = 'ohlc?'\n",
    "    url_periods = 'periods='+period\n",
    "    \n",
    "    url = url_base + url_market + url_pair + url_ohlc + url_periods\n",
    "    r = requests.get(url)\n",
    "    data = r.json()\n",
    "    \n",
    "    data = data['result'][period]\n",
    "    \n",
    "    data_df = {'timestamp':[], 'open':[], 'high':[], 'low':[], 'close':[], 'vol':[], 'quotevol':[]}\n",
    "    index_df = []\n",
    "    i = 1\n",
    "    for day in data:\n",
    "        data_df['timestamp'].append(day[0])\n",
    "        data_df['open'].append(day[1])\n",
    "        data_df['high'].append(day[2])\n",
    "        data_df['low'].append(day[3])\n",
    "        data_df['close'].append(day[4])\n",
    "        data_df['vol'].append(day[5])\n",
    "        data_df['quotevol'].append(day[6])\n",
    "        index_df.append(i)\n",
    "        i += 1\n",
    "    df = pd.DataFrame(data_df, index=index_df)\n",
    "    return df\n",
    "\n",
    "def returns(df):\n",
    "    return df['close'].pct_change()\n",
    "\n",
    "def annualize_rets(r, periods_per_year=365):\n",
    "    compounded_growth = (1+r).prod()\n",
    "    n_periods = r.shape[0]\n",
    "    return compounded_growth**(periods_per_year/n_periods)-1\n",
    "\n",
    "def portfolio_return(weights, returns):\n",
    "    return weights.T @ returns\n",
    "\n",
    "def cryptodict_dfrets(dic):\n",
    "    header = dic.keys()\n",
    "    rets_list = []\n",
    "    for c in dic:\n",
    "        rets_list.append(dic[c]['close'].pct_change())\n",
    "    rets_df = pd.concat(rets_list, axis=1, keys=header)\n",
    "    \n",
    "    return rets_df\n",
    "\n",
    "def portfolio_vol(weights, covmat):\n",
    "    return (weights.T @ covmat @ weights)**0.5"
   ]
  },
  {
   "cell_type": "code",
   "execution_count": 97,
   "id": "64402778-55d2-427c-8755-8ff8c8931c7c",
   "metadata": {},
   "outputs": [],
   "source": [
    "def minimize_vol(target_return, cryptos, cov):\n",
    "    \"\"\"\n",
    "    Returns the optimal weights that achieve the target return\n",
    "    given a set of expected returns and a covariance matrix\n",
    "    \"\"\"\n",
    "    \n",
    "    n = len(cryptos)\n",
    "    rets_df = cryptodict_dfrets(cryptos)\n",
    "    \n",
    "    ann_rets = annualize_rets(rets_df)\n",
    "    \n",
    "    init_guess = np.repeat(1/n, n)\n",
    "    bounds = ((0.0, 1.0),) * n \n",
    "    \n",
    "    weights_sum_to_1 = {'type': 'eq',\n",
    "                        'fun': lambda weights: np.sum(weights) - 1\n",
    "    }\n",
    "    return_is_target = {'type': 'eq',\n",
    "                        'args': (rets_df,),\n",
    "                        'fun': lambda weights, rets_df: target_return - portfolio_return(weights,ann_rets)\n",
    "    }\n",
    "    weights = minimize(portfolio_vol, init_guess,\n",
    "                       args=(cov,), method='SLSQP',\n",
    "                       options={'disp': False},\n",
    "                       constraints=(weights_sum_to_1,return_is_target),\n",
    "                       bounds=bounds)\n",
    "    return weights.x"
   ]
  },
  {
   "cell_type": "code",
   "execution_count": 75,
   "id": "49c48a5a-5980-4cce-b5f3-84971ffa7e32",
   "metadata": {},
   "outputs": [],
   "source": [
    "btc = get_crypto('btc')\n",
    "eth = get_crypto('eth')"
   ]
  },
  {
   "cell_type": "code",
   "execution_count": 76,
   "id": "26c13f86-ce4e-4adc-afb2-c199437d8bab",
   "metadata": {},
   "outputs": [
    {
     "data": {
      "text/html": [
       "<div>\n",
       "<style scoped>\n",
       "    .dataframe tbody tr th:only-of-type {\n",
       "        vertical-align: middle;\n",
       "    }\n",
       "\n",
       "    .dataframe tbody tr th {\n",
       "        vertical-align: top;\n",
       "    }\n",
       "\n",
       "    .dataframe thead th {\n",
       "        text-align: right;\n",
       "    }\n",
       "</style>\n",
       "<table border=\"1\" class=\"dataframe\">\n",
       "  <thead>\n",
       "    <tr style=\"text-align: right;\">\n",
       "      <th></th>\n",
       "      <th>btc</th>\n",
       "      <th>eth</th>\n",
       "    </tr>\n",
       "  </thead>\n",
       "  <tbody>\n",
       "    <tr>\n",
       "      <th>1</th>\n",
       "      <td>NaN</td>\n",
       "      <td>NaN</td>\n",
       "    </tr>\n",
       "    <tr>\n",
       "      <th>2</th>\n",
       "      <td>-0.103119</td>\n",
       "      <td>-0.113481</td>\n",
       "    </tr>\n",
       "    <tr>\n",
       "      <th>3</th>\n",
       "      <td>-0.038103</td>\n",
       "      <td>0.051240</td>\n",
       "    </tr>\n",
       "    <tr>\n",
       "      <th>4</th>\n",
       "      <td>0.036845</td>\n",
       "      <td>-0.151870</td>\n",
       "    </tr>\n",
       "    <tr>\n",
       "      <th>5</th>\n",
       "      <td>-0.110343</td>\n",
       "      <td>-0.152557</td>\n",
       "    </tr>\n",
       "  </tbody>\n",
       "</table>\n",
       "</div>"
      ],
      "text/plain": [
       "        btc       eth\n",
       "1       NaN       NaN\n",
       "2 -0.103119 -0.113481\n",
       "3 -0.038103  0.051240\n",
       "4  0.036845 -0.151870\n",
       "5 -0.110343 -0.152557"
      ]
     },
     "execution_count": 76,
     "metadata": {},
     "output_type": "execute_result"
    }
   ],
   "source": [
    "dic = {'btc':btc, 'eth':eth}\n",
    "cryptodict_dfrets(dic).head()"
   ]
  },
  {
   "cell_type": "code",
   "execution_count": 96,
   "id": "29ce1aa1-b7e4-4b50-aa0b-c99c3212f264",
   "metadata": {},
   "outputs": [
    {
     "ename": "ValueError",
     "evalue": "matrices are not aligned",
     "output_type": "error",
     "traceback": [
      "\u001b[1;31m---------------------------------------------------------------------------\u001b[0m",
      "\u001b[1;31mValueError\u001b[0m                                Traceback (most recent call last)",
      "\u001b[1;32m~\\AppData\\Local\\Temp/ipykernel_11956/1812021512.py\u001b[0m in \u001b[0;36m<module>\u001b[1;34m\u001b[0m\n\u001b[1;32m----> 1\u001b[1;33m \u001b[0mtype\u001b[0m\u001b[1;33m(\u001b[0m\u001b[0mportfolio_vol\u001b[0m\u001b[1;33m(\u001b[0m\u001b[0mpd\u001b[0m\u001b[1;33m.\u001b[0m\u001b[0mSeries\u001b[0m\u001b[1;33m(\u001b[0m\u001b[1;33m[\u001b[0m\u001b[1;36m.5\u001b[0m\u001b[1;33m,\u001b[0m\u001b[1;36m.5\u001b[0m\u001b[1;33m]\u001b[0m\u001b[1;33m)\u001b[0m\u001b[1;33m.\u001b[0m\u001b[0mT\u001b[0m\u001b[1;33m,\u001b[0m\u001b[0mcryptodict_dfrets\u001b[0m\u001b[1;33m(\u001b[0m\u001b[0mdic\u001b[0m\u001b[1;33m)\u001b[0m\u001b[1;33m.\u001b[0m\u001b[0mcov\u001b[0m\u001b[1;33m(\u001b[0m\u001b[1;33m)\u001b[0m\u001b[1;33m)\u001b[0m\u001b[1;33m)\u001b[0m\u001b[1;33m\u001b[0m\u001b[1;33m\u001b[0m\u001b[0m\n\u001b[0m",
      "\u001b[1;32m~\\AppData\\Local\\Temp/ipykernel_11956/343718961.py\u001b[0m in \u001b[0;36mportfolio_vol\u001b[1;34m(weights, covmat)\u001b[0m\n\u001b[0;32m     63\u001b[0m \u001b[1;33m\u001b[0m\u001b[0m\n\u001b[0;32m     64\u001b[0m \u001b[1;32mdef\u001b[0m \u001b[0mportfolio_vol\u001b[0m\u001b[1;33m(\u001b[0m\u001b[0mweights\u001b[0m\u001b[1;33m,\u001b[0m \u001b[0mcovmat\u001b[0m\u001b[1;33m)\u001b[0m\u001b[1;33m:\u001b[0m\u001b[1;33m\u001b[0m\u001b[1;33m\u001b[0m\u001b[0m\n\u001b[1;32m---> 65\u001b[1;33m     \u001b[1;32mreturn\u001b[0m \u001b[1;33m(\u001b[0m\u001b[0mweights\u001b[0m\u001b[1;33m.\u001b[0m\u001b[0mT\u001b[0m \u001b[1;33m@\u001b[0m \u001b[0mcovmat\u001b[0m \u001b[1;33m@\u001b[0m \u001b[0mweights\u001b[0m\u001b[1;33m)\u001b[0m\u001b[1;33m**\u001b[0m\u001b[1;36m0.5\u001b[0m\u001b[1;33m\u001b[0m\u001b[1;33m\u001b[0m\u001b[0m\n\u001b[0m",
      "\u001b[1;32m~\\Documents\\Informatica\\Anaconda\\lib\\site-packages\\pandas\\core\\series.py\u001b[0m in \u001b[0;36m__matmul__\u001b[1;34m(self, other)\u001b[0m\n\u001b[0;32m   2778\u001b[0m         \u001b[0mMatrix\u001b[0m \u001b[0mmultiplication\u001b[0m \u001b[0musing\u001b[0m \u001b[0mbinary\u001b[0m\u001b[0;31m \u001b[0m\u001b[0;31m`\u001b[0m\u001b[1;33m@\u001b[0m\u001b[0;31m`\u001b[0m \u001b[0moperator\u001b[0m \u001b[1;32min\u001b[0m \u001b[0mPython\u001b[0m\u001b[1;33m>=\u001b[0m\u001b[1;36m3.5\u001b[0m\u001b[1;33m.\u001b[0m\u001b[1;33m\u001b[0m\u001b[1;33m\u001b[0m\u001b[0m\n\u001b[0;32m   2779\u001b[0m         \"\"\"\n\u001b[1;32m-> 2780\u001b[1;33m         \u001b[1;32mreturn\u001b[0m \u001b[0mself\u001b[0m\u001b[1;33m.\u001b[0m\u001b[0mdot\u001b[0m\u001b[1;33m(\u001b[0m\u001b[0mother\u001b[0m\u001b[1;33m)\u001b[0m\u001b[1;33m\u001b[0m\u001b[1;33m\u001b[0m\u001b[0m\n\u001b[0m\u001b[0;32m   2781\u001b[0m \u001b[1;33m\u001b[0m\u001b[0m\n\u001b[0;32m   2782\u001b[0m     \u001b[1;32mdef\u001b[0m \u001b[0m__rmatmul__\u001b[0m\u001b[1;33m(\u001b[0m\u001b[0mself\u001b[0m\u001b[1;33m,\u001b[0m \u001b[0mother\u001b[0m\u001b[1;33m)\u001b[0m\u001b[1;33m:\u001b[0m\u001b[1;33m\u001b[0m\u001b[1;33m\u001b[0m\u001b[0m\n",
      "\u001b[1;32m~\\Documents\\Informatica\\Anaconda\\lib\\site-packages\\pandas\\core\\series.py\u001b[0m in \u001b[0;36mdot\u001b[1;34m(self, other)\u001b[0m\n\u001b[0;32m   2749\u001b[0m             \u001b[0mcommon\u001b[0m \u001b[1;33m=\u001b[0m \u001b[0mself\u001b[0m\u001b[1;33m.\u001b[0m\u001b[0mindex\u001b[0m\u001b[1;33m.\u001b[0m\u001b[0munion\u001b[0m\u001b[1;33m(\u001b[0m\u001b[0mother\u001b[0m\u001b[1;33m.\u001b[0m\u001b[0mindex\u001b[0m\u001b[1;33m)\u001b[0m\u001b[1;33m\u001b[0m\u001b[1;33m\u001b[0m\u001b[0m\n\u001b[0;32m   2750\u001b[0m             \u001b[1;32mif\u001b[0m \u001b[0mlen\u001b[0m\u001b[1;33m(\u001b[0m\u001b[0mcommon\u001b[0m\u001b[1;33m)\u001b[0m \u001b[1;33m>\u001b[0m \u001b[0mlen\u001b[0m\u001b[1;33m(\u001b[0m\u001b[0mself\u001b[0m\u001b[1;33m.\u001b[0m\u001b[0mindex\u001b[0m\u001b[1;33m)\u001b[0m \u001b[1;32mor\u001b[0m \u001b[0mlen\u001b[0m\u001b[1;33m(\u001b[0m\u001b[0mcommon\u001b[0m\u001b[1;33m)\u001b[0m \u001b[1;33m>\u001b[0m \u001b[0mlen\u001b[0m\u001b[1;33m(\u001b[0m\u001b[0mother\u001b[0m\u001b[1;33m.\u001b[0m\u001b[0mindex\u001b[0m\u001b[1;33m)\u001b[0m\u001b[1;33m:\u001b[0m\u001b[1;33m\u001b[0m\u001b[1;33m\u001b[0m\u001b[0m\n\u001b[1;32m-> 2751\u001b[1;33m                 \u001b[1;32mraise\u001b[0m \u001b[0mValueError\u001b[0m\u001b[1;33m(\u001b[0m\u001b[1;34m\"matrices are not aligned\"\u001b[0m\u001b[1;33m)\u001b[0m\u001b[1;33m\u001b[0m\u001b[1;33m\u001b[0m\u001b[0m\n\u001b[0m\u001b[0;32m   2752\u001b[0m \u001b[1;33m\u001b[0m\u001b[0m\n\u001b[0;32m   2753\u001b[0m             \u001b[0mleft\u001b[0m \u001b[1;33m=\u001b[0m \u001b[0mself\u001b[0m\u001b[1;33m.\u001b[0m\u001b[0mreindex\u001b[0m\u001b[1;33m(\u001b[0m\u001b[0mindex\u001b[0m\u001b[1;33m=\u001b[0m\u001b[0mcommon\u001b[0m\u001b[1;33m,\u001b[0m \u001b[0mcopy\u001b[0m\u001b[1;33m=\u001b[0m\u001b[1;32mFalse\u001b[0m\u001b[1;33m)\u001b[0m\u001b[1;33m\u001b[0m\u001b[1;33m\u001b[0m\u001b[0m\n",
      "\u001b[1;31mValueError\u001b[0m: matrices are not aligned"
     ]
    }
   ],
   "source": [
    "type(portfolio_vol(pd.Series([.5,.5]).T,cryptodict_dfrets(dic).cov()))"
   ]
  },
  {
   "cell_type": "code",
   "execution_count": 78,
   "id": "c1771758-5e63-490d-9926-2886bf3d0766",
   "metadata": {},
   "outputs": [
    {
     "name": "stdout",
     "output_type": "stream",
     "text": [
      "(1366, 2)\n",
      "(2,)\n"
     ]
    },
    {
     "data": {
      "text/plain": [
       "1            NaN\n",
       "2      -0.108300\n",
       "3       0.006568\n",
       "4      -0.057512\n",
       "5      -0.131450\n",
       "          ...   \n",
       "1362   -0.005243\n",
       "1363    0.013362\n",
       "1364    0.007768\n",
       "1365   -0.011342\n",
       "1366         NaN\n",
       "Length: 1366, dtype: float64"
      ]
     },
     "execution_count": 78,
     "metadata": {},
     "output_type": "execute_result"
    }
   ],
   "source": [
    "rets_df = cryptodict_dfrets(dic)\n",
    "print(rets_df.shape)\n",
    "n=2\n",
    "init_guess = np.repeat(1/n, n)\n",
    "print(init_guess.shape)\n",
    "init_guess @ rets_df.T"
   ]
  },
  {
   "cell_type": "code",
   "execution_count": 79,
   "id": "3692a676-4117-4275-8fd5-db9a176a8c08",
   "metadata": {},
   "outputs": [
    {
     "data": {
      "text/plain": [
       "btc    0.607245\n",
       "eth    0.452984\n",
       "dtype: float64"
      ]
     },
     "execution_count": 79,
     "metadata": {},
     "output_type": "execute_result"
    }
   ],
   "source": [
    "annualize_rets(rets_df)"
   ]
  },
  {
   "cell_type": "code",
   "execution_count": 109,
   "id": "9b9b5a3e-c34c-42b4-baaa-da243d76cf4d",
   "metadata": {},
   "outputs": [
    {
     "data": {
      "text/plain": [
       "array([0.11030671, 0.88969329])"
      ]
     },
     "execution_count": 109,
     "metadata": {},
     "output_type": "execute_result"
    }
   ],
   "source": [
    "minimize_vol(.47,dic,cryptodict_dfrets(dic).cov())"
   ]
  },
  {
   "cell_type": "code",
   "execution_count": 2,
   "id": "6ed02df9",
   "metadata": {},
   "outputs": [
    {
     "data": {
      "text/plain": [
       "\"key = '4YBENDV8SSRU0KGU'\\n\\ndef frontier(cryptos):\\n    for crypto in cryptos:\\n        crypto = crypto.upper()\\n        url = 'https://www.alphavantage.co/query?function=DIGITAL_CURRENCY_DAILY&symbol='+crypto+'&market=USD&apikey='+key\\n        print(url)\\n        r = requests.get(url)\\n        data = r.json()\\n        \\n    print(data)\""
      ]
     },
     "execution_count": 2,
     "metadata": {},
     "output_type": "execute_result"
    }
   ],
   "source": [
    "'''key = '4YBENDV8SSRU0KGU'\n",
    "\n",
    "def frontier(cryptos):\n",
    "    for crypto in cryptos:\n",
    "        crypto = crypto.upper()\n",
    "        url = 'https://www.alphavantage.co/query?function=DIGITAL_CURRENCY_DAILY&symbol='+crypto+'&market=USD&apikey='+key\n",
    "        print(url)\n",
    "        r = requests.get(url)\n",
    "        data = r.json()\n",
    "        \n",
    "    print(data)'''"
   ]
  },
  {
   "cell_type": "code",
   "execution_count": null,
   "id": "b573c60a",
   "metadata": {},
   "outputs": [],
   "source": []
  },
  {
   "cell_type": "code",
   "execution_count": 90,
   "id": "877ada84",
   "metadata": {},
   "outputs": [
    {
     "data": {
      "text/plain": [
       "pandas.core.series.Series"
      ]
     },
     "execution_count": 90,
     "metadata": {},
     "output_type": "execute_result"
    }
   ],
   "source": [
    "type(annualize_rets(cryptodict_dfrets(dic)))"
   ]
  },
  {
   "cell_type": "code",
   "execution_count": null,
   "id": "37bf41ee",
   "metadata": {},
   "outputs": [],
   "source": []
  },
  {
   "cell_type": "code",
   "execution_count": null,
   "id": "3e64eff9",
   "metadata": {},
   "outputs": [],
   "source": []
  },
  {
   "cell_type": "code",
   "execution_count": null,
   "id": "e1186b4f",
   "metadata": {},
   "outputs": [],
   "source": []
  },
  {
   "cell_type": "code",
   "execution_count": null,
   "id": "0a0c6ae2",
   "metadata": {},
   "outputs": [],
   "source": []
  },
  {
   "cell_type": "code",
   "execution_count": null,
   "id": "13302625",
   "metadata": {},
   "outputs": [],
   "source": []
  },
  {
   "cell_type": "code",
   "execution_count": null,
   "id": "d388afd4",
   "metadata": {},
   "outputs": [],
   "source": []
  },
  {
   "cell_type": "code",
   "execution_count": null,
   "id": "0108b051",
   "metadata": {},
   "outputs": [],
   "source": []
  },
  {
   "cell_type": "code",
   "execution_count": null,
   "id": "07ecd5b2",
   "metadata": {},
   "outputs": [],
   "source": []
  },
  {
   "cell_type": "code",
   "execution_count": 14,
   "id": "bcd7e0af",
   "metadata": {},
   "outputs": [],
   "source": [
    "df['rets'] = df['close'].pct_change()"
   ]
  },
  {
   "cell_type": "code",
   "execution_count": 15,
   "id": "d76ed24b-4bcb-4817-8bb8-967704f2a645",
   "metadata": {},
   "outputs": [
    {
     "data": {
      "text/html": [
       "<div>\n",
       "<style scoped>\n",
       "    .dataframe tbody tr th:only-of-type {\n",
       "        vertical-align: middle;\n",
       "    }\n",
       "\n",
       "    .dataframe tbody tr th {\n",
       "        vertical-align: top;\n",
       "    }\n",
       "\n",
       "    .dataframe thead th {\n",
       "        text-align: right;\n",
       "    }\n",
       "</style>\n",
       "<table border=\"1\" class=\"dataframe\">\n",
       "  <thead>\n",
       "    <tr style=\"text-align: right;\">\n",
       "      <th></th>\n",
       "      <th>timestamp</th>\n",
       "      <th>open</th>\n",
       "      <th>high</th>\n",
       "      <th>low</th>\n",
       "      <th>close</th>\n",
       "      <th>vol</th>\n",
       "      <th>quotevol</th>\n",
       "      <th>rets</th>\n",
       "    </tr>\n",
       "  </thead>\n",
       "  <tbody>\n",
       "    <tr>\n",
       "      <th>1</th>\n",
       "      <td>1600819200</td>\n",
       "      <td>6.5725</td>\n",
       "      <td>7.0000</td>\n",
       "      <td>4.0266</td>\n",
       "      <td>5.3193</td>\n",
       "      <td>21558344.85</td>\n",
       "      <td>1.152698e+08</td>\n",
       "      <td>NaN</td>\n",
       "    </tr>\n",
       "    <tr>\n",
       "      <th>2</th>\n",
       "      <td>1600905600</td>\n",
       "      <td>5.3279</td>\n",
       "      <td>5.3600</td>\n",
       "      <td>3.4000</td>\n",
       "      <td>3.5350</td>\n",
       "      <td>12620414.86</td>\n",
       "      <td>5.315434e+07</td>\n",
       "      <td>-0.335439</td>\n",
       "    </tr>\n",
       "    <tr>\n",
       "      <th>3</th>\n",
       "      <td>1600992000</td>\n",
       "      <td>3.5305</td>\n",
       "      <td>4.8873</td>\n",
       "      <td>3.4033</td>\n",
       "      <td>4.6411</td>\n",
       "      <td>7107836.75</td>\n",
       "      <td>2.891251e+07</td>\n",
       "      <td>0.312900</td>\n",
       "    </tr>\n",
       "    <tr>\n",
       "      <th>4</th>\n",
       "      <td>1601078400</td>\n",
       "      <td>4.6366</td>\n",
       "      <td>5.0234</td>\n",
       "      <td>4.2001</td>\n",
       "      <td>4.7134</td>\n",
       "      <td>3885904.91</td>\n",
       "      <td>1.790980e+07</td>\n",
       "      <td>0.015578</td>\n",
       "    </tr>\n",
       "    <tr>\n",
       "      <th>5</th>\n",
       "      <td>1601164800</td>\n",
       "      <td>4.7164</td>\n",
       "      <td>4.8200</td>\n",
       "      <td>4.3294</td>\n",
       "      <td>4.5200</td>\n",
       "      <td>1814932.97</td>\n",
       "      <td>8.304264e+06</td>\n",
       "      <td>-0.041032</td>\n",
       "    </tr>\n",
       "    <tr>\n",
       "      <th>...</th>\n",
       "      <td>...</td>\n",
       "      <td>...</td>\n",
       "      <td>...</td>\n",
       "      <td>...</td>\n",
       "      <td>...</td>\n",
       "      <td>...</td>\n",
       "      <td>...</td>\n",
       "      <td>...</td>\n",
       "    </tr>\n",
       "    <tr>\n",
       "      <th>390</th>\n",
       "      <td>1634428800</td>\n",
       "      <td>56.3300</td>\n",
       "      <td>62.1100</td>\n",
       "      <td>55.6800</td>\n",
       "      <td>57.6100</td>\n",
       "      <td>3914987.29</td>\n",
       "      <td>2.313453e+08</td>\n",
       "      <td>0.022179</td>\n",
       "    </tr>\n",
       "    <tr>\n",
       "      <th>391</th>\n",
       "      <td>1634515200</td>\n",
       "      <td>57.6200</td>\n",
       "      <td>58.5500</td>\n",
       "      <td>53.2700</td>\n",
       "      <td>56.1000</td>\n",
       "      <td>2134508.30</td>\n",
       "      <td>1.208377e+08</td>\n",
       "      <td>-0.026211</td>\n",
       "    </tr>\n",
       "    <tr>\n",
       "      <th>392</th>\n",
       "      <td>1634601600</td>\n",
       "      <td>56.1100</td>\n",
       "      <td>56.4600</td>\n",
       "      <td>54.0500</td>\n",
       "      <td>55.4800</td>\n",
       "      <td>1553173.47</td>\n",
       "      <td>8.585301e+07</td>\n",
       "      <td>-0.011052</td>\n",
       "    </tr>\n",
       "    <tr>\n",
       "      <th>393</th>\n",
       "      <td>1634688000</td>\n",
       "      <td>55.4700</td>\n",
       "      <td>58.1000</td>\n",
       "      <td>55.1200</td>\n",
       "      <td>56.8000</td>\n",
       "      <td>1873629.97</td>\n",
       "      <td>1.060372e+08</td>\n",
       "      <td>0.023792</td>\n",
       "    </tr>\n",
       "    <tr>\n",
       "      <th>394</th>\n",
       "      <td>1634774400</td>\n",
       "      <td>56.8100</td>\n",
       "      <td>59.7900</td>\n",
       "      <td>56.7000</td>\n",
       "      <td>58.9400</td>\n",
       "      <td>1772344.77</td>\n",
       "      <td>1.026984e+08</td>\n",
       "      <td>0.037676</td>\n",
       "    </tr>\n",
       "  </tbody>\n",
       "</table>\n",
       "<p>394 rows × 8 columns</p>\n",
       "</div>"
      ],
      "text/plain": [
       "      timestamp     open     high      low    close          vol  \\\n",
       "1    1600819200   6.5725   7.0000   4.0266   5.3193  21558344.85   \n",
       "2    1600905600   5.3279   5.3600   3.4000   3.5350  12620414.86   \n",
       "3    1600992000   3.5305   4.8873   3.4033   4.6411   7107836.75   \n",
       "4    1601078400   4.6366   5.0234   4.2001   4.7134   3885904.91   \n",
       "5    1601164800   4.7164   4.8200   4.3294   4.5200   1814932.97   \n",
       "..          ...      ...      ...      ...      ...          ...   \n",
       "390  1634428800  56.3300  62.1100  55.6800  57.6100   3914987.29   \n",
       "391  1634515200  57.6200  58.5500  53.2700  56.1000   2134508.30   \n",
       "392  1634601600  56.1100  56.4600  54.0500  55.4800   1553173.47   \n",
       "393  1634688000  55.4700  58.1000  55.1200  56.8000   1873629.97   \n",
       "394  1634774400  56.8100  59.7900  56.7000  58.9400   1772344.77   \n",
       "\n",
       "         quotevol      rets  \n",
       "1    1.152698e+08       NaN  \n",
       "2    5.315434e+07 -0.335439  \n",
       "3    2.891251e+07  0.312900  \n",
       "4    1.790980e+07  0.015578  \n",
       "5    8.304264e+06 -0.041032  \n",
       "..            ...       ...  \n",
       "390  2.313453e+08  0.022179  \n",
       "391  1.208377e+08 -0.026211  \n",
       "392  8.585301e+07 -0.011052  \n",
       "393  1.060372e+08  0.023792  \n",
       "394  1.026984e+08  0.037676  \n",
       "\n",
       "[394 rows x 8 columns]"
      ]
     },
     "execution_count": 15,
     "metadata": {},
     "output_type": "execute_result"
    }
   ],
   "source": [
    "df"
   ]
  },
  {
   "cell_type": "code",
   "execution_count": 16,
   "id": "c9c62766-7515-48f9-896f-37d97fd499eb",
   "metadata": {},
   "outputs": [],
   "source": [
    "import matplotlib.pyplot as plt"
   ]
  },
  {
   "cell_type": "code",
   "execution_count": 17,
   "id": "9743e865-2245-4705-9340-0d7d2d040bd6",
   "metadata": {},
   "outputs": [
    {
     "data": {
      "image/png": "[encoded data removed]",
      "text/plain": [
       "<Figure size 432x288 with 1 Axes>"
      ]
     },
     "metadata": {
      "needs_background": "light"
     },
     "output_type": "display_data"
    }
   ],
   "source": [
    "plt.plot(df['rets'])\n",
    "plt.show()"
   ]
  },
  {
   "cell_type": "code",
   "execution_count": 18,
   "id": "23d3372e-22b3-40ef-9048-ed47239a9095",
   "metadata": {},
   "outputs": [
    {
     "data": {
      "text/plain": [
       "0.09513630945110547"
      ]
     },
     "execution_count": 18,
     "metadata": {},
     "output_type": "execute_result"
    }
   ],
   "source": [
    "std = df['rets'].std()\n",
    "std"
   ]
  },
  {
   "cell_type": "code",
   "execution_count": 20,
   "id": "71abbb60-7d88-48b7-b734-b1d5722a2181",
   "metadata": {},
   "outputs": [
    {
     "data": {
      "text/plain": [
       "pandas.core.series.Series"
      ]
     },
     "execution_count": 20,
     "metadata": {},
     "output_type": "execute_result"
    }
   ],
   "source": [
    "type(df['close'].pct_change())"
   ]
  },
  {
   "cell_type": "code",
   "execution_count": 101,
   "id": "04560b3b-a337-4b07-9557-d9fb8042f350",
   "metadata": {},
   "outputs": [],
   "source": [
    "def minimize_vol2(target_return, cryptos):\n",
    "    \"\"\"\n",
    "    Returns the optimal weights that achieve the target return\n",
    "    given a set of expected returns and a covariance matrix\n",
    "    \"\"\"\n",
    "    \n",
    "    n = len(cryptos)\n",
    "    crypto_dict = {}\n",
    "    for c in cryptos:\n",
    "        crypto_dict[c] = get_crypto(c)\n",
    "\n",
    "    rets_df = cryptodict_dfrets(crypto_dict)\n",
    "    \n",
    "    ann_rets = annualize_rets(rets_df)\n",
    "    cov = rets_df.cov()\n",
    "    \n",
    "    init_guess = np.repeat(1/n, n)\n",
    "    bounds = ((0.0, 1.0),) * n \n",
    "    \n",
    "    weights_sum_to_1 = {'type': 'eq',\n",
    "                        'fun': lambda weights: np.sum(weights) - 1\n",
    "    }\n",
    "    return_is_target = {'type': 'eq',\n",
    "                        'args': (rets_df,),\n",
    "                        'fun': lambda weights, rets_df: target_return - portfolio_return(weights,ann_rets)\n",
    "    }\n",
    "    weights = minimize(portfolio_vol, init_guess,\n",
    "                       args=(cov,), method='SLSQP',\n",
    "                       options={'disp': False},\n",
    "                       constraints=(weights_sum_to_1,return_is_target),\n",
    "                       bounds=bounds)\n",
    "    i = 0\n",
    "    result = {}\n",
    "    for x in weights.x:\n",
    "        result[cryptos[i]] = x\n",
    "        i += 1\n",
    "    return result"
   ]
  },
  {
   "cell_type": "code",
   "execution_count": 102,
   "id": "8a2381cc-92cd-4051-8f23-f820c04f5e31",
   "metadata": {},
   "outputs": [
    {
     "data": {
      "text/plain": [
       "{'btc': 0.6312863384247105, 'eth': 0.3687136615752895}"
      ]
     },
     "execution_count": 102,
     "metadata": {},
     "output_type": "execute_result"
    }
   ],
   "source": [
    "minimize_vol2(.55,['btc','eth'])"
   ]
  },
  {
   "cell_type": "code",
   "execution_count": null,
   "id": "3e22c10e-1d1d-4e84-b3c5-56b07ad4cbdd",
   "metadata": {},
   "outputs": [],
   "source": []
  }
 ],
 "metadata": {
  "kernelspec": {
   "display_name": "Python 3 (ipykernel)",
   "language": "python",
   "name": "python3"
  },
  "language_info": {
   "codemirror_mode": {
    "name": "ipython",
    "version": 3
   },
   "file_extension": ".py",
   "mimetype": "text/x-python",
   "name": "python",
   "nbconvert_exporter": "python",
   "pygments_lexer": "ipython3",
   "version": "3.8.8"
  }
 },
 "nbformat": 4,
 "nbformat_minor": 5
}
